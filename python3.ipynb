{
 "cells": [
  {
   "cell_type": "code",
   "execution_count": 11,
   "metadata": {},
   "outputs": [
    {
     "name": "stdout",
     "output_type": "stream",
     "text": [
      "1\n",
      "3\n",
      "5\n",
      "7\n",
      "9\n",
      "Hi\n"
     ]
    }
   ],
   "source": [
    "for i in range(1,11):\n",
    "    if i%2 == 0: continue\n",
    "        \n",
    "    print(i)\n",
    "else :\n",
    "    print(\"Hi\")"
   ]
  },
  {
   "cell_type": "code",
   "execution_count": 10,
   "metadata": {},
   "outputs": [
    {
     "name": "stdout",
     "output_type": "stream",
     "text": [
      "1\n",
      "2\n",
      "3\n",
      "4\n",
      "5\n",
      "6\n",
      "7\n",
      "8\n",
      "9\n",
      "10\n"
     ]
    }
   ],
   "source": [
    "n = 0\n",
    "while n<10:\n",
    "    if n%2 == 0 :\n",
    "        pass\n",
    "    n += 1\n",
    "    print(n)"
   ]
  },
  {
   "cell_type": "code",
   "execution_count": 11,
   "metadata": {},
   "outputs": [
    {
     "name": "stdout",
     "output_type": "stream",
     "text": [
      "Hi\n",
      "hello\n",
      "hello\n",
      "hello\n",
      "hello\n"
     ]
    }
   ],
   "source": [
    "for i in range(1,11):\n",
    "    print(\"Hi\")\n",
    "    for j in range(1,5):\n",
    "        print(\"hello\")\n",
    "    break"
   ]
  },
  {
   "cell_type": "code",
   "execution_count": 24,
   "metadata": {},
   "outputs": [
    {
     "name": "stdout",
     "output_type": "stream",
     "text": [
      "Enter the money < $1: 0.76\n",
      "3 quarter 1 penny "
     ]
    }
   ],
   "source": [
    "val = input('Enter the money < $1: ')\n",
    "val = float(val)\n",
    "quarter = penny = nickel = dime = 0\n",
    "tot_amt: 0.0\n",
    "if val>=1:\n",
    "    print('It is invalid')\n",
    "else :\n",
    "    while val > 0.24:\n",
    "        quarter += 1\n",
    "        val -= 0.25\n",
    "    \n",
    "    while val >= 0.10:\n",
    "        dime += 1\n",
    "        val -= 0.10\n",
    "    \n",
    "    while val >= 0.05:\n",
    "        nickel += 1\n",
    "        val -= 0.05\n",
    "    \n",
    "       \n",
    "    while val >= 0.01:\n",
    "        penny += 1\n",
    "        val -= 0.01\n",
    "        \n",
    "if quarter > 0:\n",
    "    print(f\"{quarter} quarter\",end=\" \")\n",
    "if dime > 0:\n",
    "    print(f\"{dime} dime\",end=\" \")\n",
    "if nickel > 0:\n",
    "    print(f\"{nickel} nickel\",end=\" \")\n",
    "if penny > 0:\n",
    "    print(f\"{penny} penny\",end=\" \")\n",
    "    "
   ]
  },
  {
   "cell_type": "code",
   "execution_count": null,
   "metadata": {},
   "outputs": [],
   "source": [
    "num1 = int(input('Enter the value : '))\n",
    "num2 = num1\n",
    "num1 = int(num1**(1/3))\n",
    "\n",
    "flag = False\n",
    "i1  = i2 = 0\n",
    "for i in range (0 , 2):\n",
    "    for a in range(i1+1,num1+1):\n",
    "        for b in range(1,num1+1):\n",
    "            if a**3+b**3 == num2 and (i2 != b):\n",
    "                i1 = a\n",
    "                i2 = b\n",
    "                print(f\"{a}^3 + {b}^3 is ramanujan\")\n",
    "                flag = True\n",
    "            \n",
    "            if flag == True:\n",
    "                break\n",
    "    \n",
    "        if flag == True:\n",
    "            break\n",
    "    flag = False\n",
    "    "
   ]
  },
  {
   "cell_type": "code",
   "execution_count": 1,
   "metadata": {},
   "outputs": [
    {
     "name": "stdout",
     "output_type": "stream",
     "text": [
      "enter num6\n",
      "a\n",
      "b\n",
      "c\n",
      "d\n",
      "e\n",
      "f\n"
     ]
    }
   ],
   "source": [
    "n=int(input(\"enter num\"))\n",
    "k=97\n",
    "for i in range(1,n+1):\n",
    "    for j in range(i,i+1):\n",
    "        print(chr(k) , end=\"\")\n",
    "        k=k+1\n",
    "    print()"
   ]
  },
  {
   "cell_type": "code",
   "execution_count": 35,
   "metadata": {},
   "outputs": [
    {
     "data": {
      "text/plain": [
       "False"
      ]
     },
     "execution_count": 35,
     "metadata": {},
     "output_type": "execute_result"
    }
   ],
   "source": [
    "\n"
   ]
  },
  {
   "cell_type": "code",
   "execution_count": null,
   "metadata": {},
   "outputs": [],
   "source": []
  }
 ],
 "metadata": {
  "kernelspec": {
   "display_name": "Python 3",
   "language": "python",
   "name": "python3"
  },
  "language_info": {
   "codemirror_mode": {
    "name": "ipython",
    "version": 3
   },
   "file_extension": ".py",
   "mimetype": "text/x-python",
   "name": "python",
   "nbconvert_exporter": "python",
   "pygments_lexer": "ipython3",
   "version": "3.8.5"
  }
 },
 "nbformat": 4,
 "nbformat_minor": 4
}
