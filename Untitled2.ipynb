{
 "cells": [
  {
   "cell_type": "code",
   "execution_count": 2,
   "metadata": {},
   "outputs": [
    {
     "name": "stdout",
     "output_type": "stream",
     "text": [
      "Enter the rows : 5\n",
      "* \n",
      "* * \n",
      "* * * \n",
      "* * * * \n",
      "* * * * * \n"
     ]
    }
   ],
   "source": [
    "rows = int(input('Enter the rows : '))\n",
    "for i in range(0,rows):\n",
    "    for j in range(0,i):\n",
    "        print(\"*\",end=\" \")\n",
    "    print(\"\")\n",
    "    \n",
    "    "
   ]
  },
  {
   "cell_type": "code",
   "execution_count": 4,
   "metadata": {},
   "outputs": [
    {
     "name": "stdout",
     "output_type": "stream",
     "text": [
      "Enter the rows : 5\n",
      "* * * * * \n",
      "* * * * \n",
      "* * * \n",
      "* * \n",
      "* \n"
     ]
    }
   ],
   "source": [
    "rows = int(input('Enter the rows : '))\n",
    "for i in range(0,rows):\n",
    "    for j in range(rows-i,0,-1):\n",
    "        print(\"*\",end=\" \")\n",
    "    print(\"\")"
   ]
  },
  {
   "cell_type": "code",
   "execution_count": 9,
   "metadata": {},
   "outputs": [
    {
     "name": "stdout",
     "output_type": "stream",
     "text": [
      "Enter the rows : 5\n",
      "     *\n",
      "    **\n",
      "   ***\n",
      "  ****\n",
      " *****\n"
     ]
    }
   ],
   "source": [
    "rows = int(input('Enter the rows : '))\n",
    "for i in range(0,rows):\n",
    "    for k in range(rows-i,0, -1):\n",
    "        print(\" \",end=\"\")\n",
    "    for j in range(0,i+1):\n",
    "        print(\"*\",end=\"\")\n",
    "    print(\"\")"
   ]
  },
  {
   "cell_type": "code",
   "execution_count": 34,
   "metadata": {},
   "outputs": [
    {
     "name": "stdout",
     "output_type": "stream",
     "text": [
      "Enter the rows : 5\n",
      "     *\n",
      "    ***\n",
      "   *****\n",
      "  *******\n",
      " *********\n",
      " *********\n",
      "  *******\n",
      "   *****\n",
      "    ***\n",
      "     *\n"
     ]
    }
   ],
   "source": [
    "rows = int(input('Enter the rows : '))\n",
    "for i in range(1 , rows*2 , 2):\n",
    "    for k in range(rows*2-i, 0,-2):\n",
    "        print(\" \",end=\"\")\n",
    "    for j in range(0 , i):\n",
    "        print(\"*\",end=\"\")\n",
    "    print(\"\")\n",
    "for i in range(1 , rows*2 , 2):\n",
    "    for k in range(0,i,2):\n",
    "        print(\" \",end=\"\")\n",
    "    for j in range(rows*2-i,0,-1):\n",
    "        print(\"*\",end=\"\")\n",
    "    print(\"\")"
   ]
  },
  {
   "cell_type": "code",
   "execution_count": 20,
   "metadata": {},
   "outputs": [
    {
     "name": "stdout",
     "output_type": "stream",
     "text": [
      "Enter the rows : 5\n",
      "* * * * *   \n",
      "* * * *     \n",
      "* * *       \n",
      "* *         \n",
      "*           \n",
      "* *         \n",
      "* * *       \n",
      "* * * *     \n",
      "* * * * *   \n"
     ]
    }
   ],
   "source": [
    "rows = int(input('Enter the rows : '))\n",
    "for i in range(0,rows):\n",
    "    for k in range(rows-i,0, -1):\n",
    "        print(\"* \",end=\"\")\n",
    "    for j in range(0,i+1):\n",
    "        print(\" \",end=\" \")\n",
    "    print(\"\")\n",
    "for i in range(rows-1,0,-1):\n",
    "    for k in range(rows-i+1,0, -1):\n",
    "        print(\"* \",end=\"\")\n",
    "    for j in range(0,i):\n",
    "        print(\" \",end=\" \")\n",
    "    print(\"\")"
   ]
  },
  {
   "cell_type": "code",
   "execution_count": 1,
   "metadata": {},
   "outputs": [
    {
     "name": "stdout",
     "output_type": "stream",
     "text": [
      "Enter the rows : 6\n",
      "      $\n",
      "     $*\n",
      "    $*$\n",
      "   $*$*\n",
      "  $*$*$\n",
      " $*$*$*\n"
     ]
    }
   ],
   "source": [
    "rows = int(input('Enter the rows : '))\n",
    "for i in range(0 , rows):\n",
    "    for k in range(rows-i, 0,-1):\n",
    "        print(\" \",end=\"\")\n",
    "    for j in range(0 , i+1):\n",
    "        if j%2==0:\n",
    "            print(\"$\",end=\"\")\n",
    "        else:\n",
    "            print(\"*\",end=\"\")\n",
    "    print(\"\")"
   ]
  },
  {
   "cell_type": "code",
   "execution_count": 15,
   "metadata": {},
   "outputs": [
    {
     "name": "stdout",
     "output_type": "stream",
     "text": [
      "Enter the rows : 10\n",
      " 1 2 3 4 5 6 7 8 9 10 \n",
      "  2 3 4 5 6 7 8 9 10 \n",
      "   3 4 5 6 7 8 9 10 \n",
      "    4 5 6 7 8 9 10 \n",
      "     5 6 7 8 9 10 \n",
      "      6 7 8 9 10 \n",
      "       7 8 9 10 \n",
      "        8 9 10 \n",
      "         9 10 \n",
      "          10            \n",
      "          10 \n",
      "         10 9 \n",
      "        10 9 8 \n",
      "       10 9 8 7 \n",
      "      10 9 8 7 6 \n",
      "     10 9 8 7 6 5 \n",
      "    10 9 8 7 6 5 4 \n",
      "   10 9 8 7 6 5 4 3 \n",
      "  10 9 8 7 6 5 4 3 2 \n",
      " 10 9 8 7 6 5 4 3 2 1 \n"
     ]
    }
   ],
   "source": [
    "rows = int(input('Enter the rows : '))\n",
    "for i in range(1 , rows+1):\n",
    "    for k in range(0,i):\n",
    "        print(\" \",end=\"\")\n",
    "    for j in range(i , rows+1):\n",
    "        print(j,end=\" \")\n",
    "    if i+1 != rows+1:\n",
    "        print(\"\")\n",
    "\n",
    "for i in range(rows+1 , 0 , -1):\n",
    "    for k in range(0,i):\n",
    "        print(\" \",end=\"\")\n",
    "    for j in range(rows, i-1 ,-1):\n",
    "        print(j,end=\" \")\n",
    "    print(\"\")\n"
   ]
  },
  {
   "cell_type": "code",
   "execution_count": 10,
   "metadata": {},
   "outputs": [
    {
     "name": "stdout",
     "output_type": "stream",
     "text": [
      "Enter the rows : 9\n",
      " 123456789\n",
      "  23456789\n",
      "   3456789\n",
      "    456789\n",
      "     56789\n",
      "      6789\n",
      "       789\n",
      "        89          \n",
      "         9\n",
      "        98\n",
      "       987\n",
      "      9876\n",
      "     98765\n",
      "    987654\n",
      "   9876543\n",
      "  98765432\n",
      " 987654321\n"
     ]
    }
   ],
   "source": [
    "rows = int(input('Enter the rows : '))\n",
    "for i in range(1 , rows):\n",
    "    for k in range(0,i):\n",
    "        print(\" \",end=\"\")\n",
    "    for j in range(i, rows+1):\n",
    "        print(j,end=\"\")\n",
    "    if i+1 != rows:\n",
    "        print(\"\")\n",
    "for i in range(rows+1, 0 , -1):\n",
    "    for k in range(0 ,i):\n",
    "        print(\" \",end=\"\")\n",
    "    for j in range(rows , i-1 , -1):\n",
    "         print(j , end=\"\")\n",
    "    print(\"\")"
   ]
  },
  {
   "cell_type": "code",
   "execution_count": 84,
   "metadata": {},
   "outputs": [
    {
     "name": "stdout",
     "output_type": "stream",
     "text": [
      "Enter the rows : 5\n",
      "1 \n",
      "3 2 \n",
      "6 5 4 \n",
      "10 9 8 7 \n",
      "15 14 13 12 11 \n"
     ]
    }
   ],
   "source": [
    "rows = int(input('Enter the rows : '))\n",
    "count = 1\n",
    "for i in range(0,rows):\n",
    "    s = count\n",
    "    \n",
    "    for j in range(0 , i):\n",
    "        count = count + 1    \n",
    "    temp = count\n",
    "    \n",
    "    while count >= s:\n",
    "        print(count,end=\" \")\n",
    "        count = count-1\n",
    "        \n",
    "    count = temp + 1\n",
    "    \n",
    "    print(\"\")"
   ]
  },
  {
   "cell_type": "markdown",
   "metadata": {},
   "source": [
    "print()"
   ]
  },
  {
   "cell_type": "code",
   "execution_count": 86,
   "metadata": {},
   "outputs": [
    {
     "name": "stdout",
     "output_type": "stream",
     "text": [
      "1 2 3 4 5\n"
     ]
    }
   ],
   "source": []
  },
  {
   "cell_type": "code",
   "execution_count": 4,
   "metadata": {},
   "outputs": [
    {
     "name": "stdout",
     "output_type": "stream",
     "text": [
      "A \n",
      "A B \n",
      "A B C \n",
      "A B C D \n"
     ]
    }
   ],
   "source": [
    "\n",
    "for i in range(1,5):\n",
    "    ch = 65\n",
    "    for j in range(0,i):\n",
    "        print(chr(ch) , end=\" \")\n",
    "        ch = ch+1\n",
    "    print(\"\")"
   ]
  },
  {
   "cell_type": "code",
   "execution_count": 7,
   "metadata": {},
   "outputs": [
    {
     "name": "stdout",
     "output_type": "stream",
     "text": [
      "None\n",
      "[1, 2, 3, 4]\n"
     ]
    }
   ],
   "source": [
    "l=[1,2,3]\n",
    "print(l.append(4))\n",
    "print(l)"
   ]
  },
  {
   "cell_type": "code",
   "execution_count": null,
   "metadata": {},
   "outputs": [
    {
     "name": "stdout",
     "output_type": "stream",
     "text": [
      "enter number44\n",
      "16\n",
      "32\n",
      "4\n",
      "13\n",
      "9\n",
      "10\n",
      "0\n",
      "1\n",
      "happy num\n"
     ]
    }
   ],
   "source": [
    "# w a p p to check the entered num is happy num or not\n",
    "n1=int(input(\"enter number\"))\n",
    "sum=0\n",
    "n2=n1\n",
    "b=True\n",
    "while sum!=4:\n",
    "    sum=0\n",
    "    while n2>0:\n",
    "        sum+=(n2%10)**2\n",
    "        n2//=10\n",
    "    if(sum==1):\n",
    "        b=False\n",
    "        print(\"happy num\")\n",
    "    else:\n",
    "        n2=sum\n",
    "if(b):\n",
    "    print(\"not happy\")\n",
    "        "
   ]
  },
  {
   "cell_type": "code",
   "execution_count": 2,
   "metadata": {},
   "outputs": [
    {
     "name": "stdout",
     "output_type": "stream",
     "text": [
      "1 happy num\n",
      "7 happy num\n",
      "10 happy num\n",
      "13 happy num\n",
      "19 happy num\n",
      "23 happy num\n",
      "28 happy num\n",
      "31 happy num\n",
      "32 happy num\n",
      "44 happy num\n",
      "49 happy num\n",
      "68 happy num\n",
      "70 happy num\n",
      "79 happy num\n",
      "82 happy num\n",
      "86 happy num\n",
      "91 happy num\n",
      "94 happy num\n",
      "97 happy num\n",
      "100 happy num\n"
     ]
    }
   ],
   "source": [
    "for n1 in range(1,101):\n",
    "    sum=0\n",
    "    n2=n1\n",
    "    while sum!=4:\n",
    "            sum=0\n",
    "            while n2>0:\n",
    "                sum+=(n2%10)**2\n",
    "                n2//=10\n",
    "            if(sum==1):\n",
    "                print(n1,\"happy num\")\n",
    "                break\n",
    "            else:\n",
    "                n2=sum\n"
   ]
  },
  {
   "cell_type": "code",
   "execution_count": 3,
   "metadata": {},
   "outputs": [
    {
     "name": "stdout",
     "output_type": "stream",
     "text": [
      "enter num6\n",
      "*\n",
      "**\n",
      "***\n",
      "****\n",
      "*****\n"
     ]
    }
   ],
   "source": [
    "for i in range(1,int(input(\"enter num\"))):\n",
    "    print(\"*\"*i)"
   ]
  },
  {
   "cell_type": "code",
   "execution_count": 9,
   "metadata": {},
   "outputs": [
    {
     "name": "stdout",
     "output_type": "stream",
     "text": [
      "enter num6\n",
      "     * \n",
      "    * * \n",
      "   * * * \n",
      "  * * * * \n",
      " * * * * * \n"
     ]
    }
   ],
   "source": [
    "n=int(input(\"enter num\"))\n",
    "for i in range(1,n):\n",
    "    print(\" \"*(n-i)+\"* \"*i)"
   ]
  },
  {
   "cell_type": "code",
   "execution_count": 11,
   "metadata": {},
   "outputs": [
    {
     "name": "stdout",
     "output_type": "stream",
     "text": [
      "enter num6\n",
      "     *\n",
      "    **\n",
      "   ***\n",
      "  ****\n",
      " *****\n"
     ]
    }
   ],
   "source": [
    "n=int(input(\"enter num\"))\n",
    "for i in range(1,n):\n",
    "    print(\" \"*(n-i)+\"*\"*i)"
   ]
  },
  {
   "cell_type": "code",
   "execution_count": 2,
   "metadata": {},
   "outputs": [
    {
     "name": "stdout",
     "output_type": "stream",
     "text": [
      "enter num6\n",
      "a\n",
      "bc\n",
      "def\n",
      "ghij\n",
      "klmno\n",
      "pqrstu\n"
     ]
    }
   ],
   "source": [
    "n=int(input(\"enter num\"))\n",
    "k=97\n",
    "for i in range(1,n+1):\n",
    "    for j in range(1,i+1):\n",
    "        print(chr(k) , end=\"\")\n",
    "        k=k+1\n",
    "    print()"
   ]
  },
  {
   "cell_type": "code",
   "execution_count": 8,
   "metadata": {},
   "outputs": [
    {
     "name": "stdout",
     "output_type": "stream",
     "text": [
      "enter num6\n",
      "111111\n",
      "22222\n",
      "3333\n",
      "444\n",
      "55\n",
      "6\n"
     ]
    }
   ],
   "source": [
    "n=int(input(\"enter num\"))\n",
    "for i in range(1,n+1):\n",
    "    for j in range(1,n+2-i):\n",
    "        print(i,end=\"\")\n",
    "    print()"
   ]
  }
 ],
 "metadata": {
  "kernelspec": {
   "display_name": "Python 3",
   "language": "python",
   "name": "python3"
  },
  "language_info": {
   "codemirror_mode": {
    "name": "ipython",
    "version": 3
   },
   "file_extension": ".py",
   "mimetype": "text/x-python",
   "name": "python",
   "nbconvert_exporter": "python",
   "pygments_lexer": "ipython3",
   "version": "3.8.5"
  }
 },
 "nbformat": 4,
 "nbformat_minor": 4
}
