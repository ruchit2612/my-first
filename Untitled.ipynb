{
 "cells": [
  {
   "cell_type": "code",
   "execution_count": 49,
   "metadata": {},
   "outputs": [
    {
     "name": "stdout",
     "output_type": "stream",
     "text": [
      "Hemal's Workspace Welcome ! :)\n",
      "<class 'str'>\n",
      "<class 'int'>\n",
      "<class 'NoneType'>\n",
      "6\n",
      "<class 'list'>\n",
      "5\n",
      "<class 'complex'>\n"
     ]
    }
   ],
   "source": [
    "print(\"Hemal's Workspace\", end=\" \")\n",
    "print(\"Welcome ! :)\")\n",
    "\n",
    "a=\"10\";\n",
    "b=5\n",
    "c=None\n",
    "# print(a+b)\n",
    "print(type(a))\n",
    "print(type(b))\n",
    "print(type(c))\n",
    "print(5+True)\n",
    "\n",
    "a = [5,6,7,8]\n",
    "print(type(a))\n",
    "print(a[0])\n",
    "\n",
    "a = 1+3j\n",
    "print(type(a))\n"
   ]
  }
 ],
 "metadata": {
  "kernelspec": {
   "display_name": "Python 3",
   "language": "python",
   "name": "python3"
  },
  "language_info": {
   "codemirror_mode": {
    "name": "ipython",
    "version": 3
   },
   "file_extension": ".py",
   "mimetype": "text/x-python",
   "name": "python",
   "nbconvert_exporter": "python",
   "pygments_lexer": "ipython3",
   "version": "3.8.5"
  }
 },
 "nbformat": 4,
 "nbformat_minor": 4
}
