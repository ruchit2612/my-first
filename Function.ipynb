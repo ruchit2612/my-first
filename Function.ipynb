{
 "cells": [
  {
   "cell_type": "code",
   "execution_count": 7,
   "metadata": {},
   "outputs": [
    {
     "name": "stdout",
     "output_type": "stream",
     "text": [
      "<class 'str'>\n",
      "<class 'str'>\n",
      "\n",
      "        Function for even number check\n",
      "    \n"
     ]
    }
   ],
   "source": [
    "def is_even(i):\n",
    "    '''\n",
    "        Function for even number check\n",
    "    '''\n",
    "    if i%2==0:\n",
    "        return 'Even'\n",
    "    else:\n",
    "        return 'Odd'\n",
    "\n",
    "x = is_even(2)\n",
    "print(type(x))\n",
    "print(type(is_even(10)))\n",
    "print(is_even.__doc__)"
   ]
  },
  {
   "cell_type": "code",
   "execution_count": 14,
   "metadata": {},
   "outputs": [
    {
     "name": "stdout",
     "output_type": "stream",
     "text": [
      "Pagal hai kya 😡😡\n"
     ]
    }
   ],
   "source": [
    "def f(v):\n",
    "    \n",
    "    if type(v) == int:\n",
    "        return (\"Pagal hai kya 😡😡\")\n",
    "    \n",
    "    x = \"vishal\"\n",
    "    return x+v\n",
    "\n",
    "\n",
    "print(f(10))"
   ]
  },
  {
   "cell_type": "code",
   "execution_count": 22,
   "metadata": {},
   "outputs": [
    {
     "name": "stdout",
     "output_type": "stream",
     "text": [
      "3\n",
      "None\n"
     ]
    }
   ],
   "source": [
    "def f(x,y):\n",
    "    sum = x+y\n",
    "    print(sum)\n",
    "\n",
    "x = f(1,2) #None\n",
    "print(x) #None"
   ]
  },
  {
   "cell_type": "code",
   "execution_count": 26,
   "metadata": {},
   "outputs": [
    {
     "data": {
      "text/plain": [
       "27"
      ]
     },
     "execution_count": 26,
     "metadata": {},
     "output_type": "execute_result"
    }
   ],
   "source": [
    "def f(a , b=2):\n",
    "    return a**b\n",
    "\n",
    "f(3 , 3)"
   ]
  },
  {
   "cell_type": "code",
   "execution_count": 32,
   "metadata": {
    "scrolled": false
   },
   "outputs": [
    {
     "data": {
      "text/plain": [
       "2"
      ]
     },
     "execution_count": 32,
     "metadata": {},
     "output_type": "execute_result"
    }
   ],
   "source": [
    "def pow(a,b):\n",
    "    return a**b\n",
    "\n",
    "pow(b=1,a=2)"
   ]
  },
  {
   "cell_type": "code",
   "execution_count": 41,
   "metadata": {},
   "outputs": [
    {
     "name": "stdout",
     "output_type": "stream",
     "text": [
      "10\n",
      "10\n"
     ]
    }
   ],
   "source": [
    "def f(y):\n",
    "    global x\n",
    "    x = y\n",
    "    x += x\n",
    "    print(x)\n",
    "    \n",
    "x = 5\n",
    "f(x)\n",
    "print(x)"
   ]
  },
  {
   "cell_type": "code",
   "execution_count": 53,
   "metadata": {},
   "outputs": [
    {
     "name": "stdout",
     "output_type": "stream",
     "text": [
      "1273708800\n"
     ]
    }
   ],
   "source": [
    "def mul(*args):\n",
    "    mul = 1\n",
    "    for i in range(len(args)):\n",
    "        mul = mul*args[i]\n",
    "    return mul\n",
    "\n",
    "print(mul(3,4,2,5,6,7,9,2,1,2,3,5,6,78))"
   ]
  },
  {
   "cell_type": "code",
   "execution_count": 65,
   "metadata": {},
   "outputs": [
    {
     "name": "stdout",
     "output_type": "stream",
     "text": [
      "{'a': 5, 'b': 6}\n",
      "<class 'dict'>\n",
      "a\n",
      "b\n",
      "('a', 5)\n",
      "('b', 6)\n",
      "5\n",
      "6\n"
     ]
    }
   ],
   "source": [
    "def f(c=5 , **kwargs):\n",
    "    print(kwargs)\n",
    "    print(type(kwargs))\n",
    "    \n",
    "    for i in kwargs:\n",
    "        print(i)\n",
    "    for i in kwargs.items():\n",
    "        print(i)\n",
    "    for i in kwargs.values():\n",
    "        print(i)\n",
    "    \n",
    "f(a=5, b=6 , c=9)"
   ]
  },
  {
   "cell_type": "code",
   "execution_count": 75,
   "metadata": {},
   "outputs": [
    {
     "data": {
      "text/plain": [
       "'HASHASHD'"
      ]
     },
     "execution_count": 75,
     "metadata": {},
     "output_type": "execute_result"
    }
   ],
   "source": [
    "def f():\n",
    "    def g():\n",
    "        return \"HASHASHD\"\n",
    "    return g\n",
    "f()()\n"
   ]
  },
  {
   "cell_type": "code",
   "execution_count": 79,
   "metadata": {},
   "outputs": [
    {
     "name": "stdout",
     "output_type": "stream",
     "text": [
      "b\n",
      "a\n",
      "None\n"
     ]
    }
   ],
   "source": [
    "def fun_a():\n",
    "    print('a')\n",
    "\n",
    "def fun_b(z):\n",
    "    print('b')\n",
    "    return z() \n",
    "\n",
    "print(fun_b(fun_a))"
   ]
  },
  {
   "cell_type": "code",
   "execution_count": null,
   "metadata": {},
   "outputs": [],
   "source": []
  }
 ],
 "metadata": {
  "kernelspec": {
   "display_name": "Python 3",
   "language": "python",
   "name": "python3"
  },
  "language_info": {
   "codemirror_mode": {
    "name": "ipython",
    "version": 3
   },
   "file_extension": ".py",
   "mimetype": "text/x-python",
   "name": "python",
   "nbconvert_exporter": "python",
   "pygments_lexer": "ipython3",
   "version": "3.8.5"
  }
 },
 "nbformat": 4,
 "nbformat_minor": 4
}
